{
  "nbformat": 4,
  "nbformat_minor": 0,
  "metadata": {
    "anaconda-cloud": {},
    "kernelspec": {
      "display_name": "Python 3",
      "language": "python",
      "name": "python3"
    },
    "language_info": {
      "codemirror_mode": {
        "name": "ipython",
        "version": 3
      },
      "file_extension": ".py",
      "mimetype": "text/x-python",
      "name": "python",
      "nbconvert_exporter": "python",
      "pygments_lexer": "ipython3",
      "version": "3.6.4"
    },
    "colab": {
      "name": "week1_prepare_dataset.ipynb",
      "provenance": []
    },
    "accelerator": "GPU"
  },
  "cells": [
    {
      "cell_type": "markdown",
      "metadata": {
        "id": "UzESmJr13ykl"
      },
      "source": [
        "<center>\n",
        "<img src=\"https://habrastorage.org/web/677/8e1/337/6778e1337c3d4b159d7e99df94227cb2.jpg\"/>\n",
        "\n",
        "## Специализация \"Машинное обучение и анализ данных\"\n",
        "<center>Автор материала: программист-исследователь Mail.Ru Group, старший преподаватель Факультета Компьютерных Наук ВШЭ [Юрий Кашницкий](https://yorko.github.io/)"
      ]
    },
    {
      "cell_type": "markdown",
      "metadata": {
        "id": "hChcbZpa3ykt"
      },
      "source": [
        "# <center> Capstone проект №1 <br> Идентификация пользователей по посещенным веб-страницам\n",
        "\n",
        "<img src='http://i.istockimg.com/file_thumbview_approve/21546327/5/stock-illustration-21546327-identification-de-l-utilisateur.jpg'>\n",
        "\n",
        "В этом проекте мы будем решать задачу идентификации пользователя по его поведению в сети Интернет. Это сложная и интересная задача на стыке анализа данных и поведенческой психологии. В качестве примера, компания Яндекс решает задачу идентификации взломщика почтового ящика по его поведению. В двух словах, взломщик будет себя вести не так, как владелец ящика: он может не удалять сообщения сразу по прочтении, как это делал хозяин, он будет по-другому ставить флажки сообщениям и даже по-своему двигать мышкой. Тогда такого злоумышленника можно идентифицировать и \"выкинуть\" из почтового ящика, предложив хозяину войти по SMS-коду. Этот пилотный проект описан в [статье](https://habrahabr.ru/company/yandex/blog/230583/) на Хабрахабре. Похожие вещи делаются, например, в Google Analytics и описываются в научных статьях, найти можно многое по фразам \"Traversal Pattern Mining\" и \"Sequential Pattern Mining\".\n",
        "\n",
        "\n",
        "Мы будем решать похожую задачу: по последовательности из нескольких веб-сайтов, посещенных подряд один и тем же человеком, мы будем идентифицировать этого человека. Идея такая: пользователи Интернета по-разному переходят по ссылкам, и это может помогать их идентифицировать (кто-то сначала в почту, потом про футбол почитать, затем новости, контакт, потом наконец – работать, кто-то – сразу работать).\n",
        "\n",
        "Будем использовать данные из [статьи](http://ceur-ws.org/Vol-1703/paper12.pdf) \"A Tool for Classification of Sequential Data\". И хотя мы не можем рекомендовать эту статью (описанные методы делеки от state-of-the-art, лучше обращаться к [книге](http://www.charuaggarwal.net/freqbook.pdf) \"Frequent Pattern Mining\" и последним статьям с ICDM), но данные там собраны аккуратно и представляют интерес.\n",
        "\n",
        "Имеются данные с прокси-серверов Университета Блеза Паскаля, они имеют очень простой вид. Для каждого пользователя заведен csv-файл с названием user\\*\\*\\*\\*.csv (где вместо звездочек – 4 цифры, соответствующие ID пользователя), а в нем посещения сайтов записаны в следующем формате: <br>\n",
        "\n",
        "<center>*timestamp, посещенный веб-сайт*</center>\n",
        "\n",
        "Скачать исходные данные можно по ссылке в статье, там же описание.\n",
        "Для этого задания хватит данных не по всем 3000 пользователям, а по 10 и 150. [Ссылка](https://drive.google.com/file/d/1AU3M_mFPofbfhFQa_Bktozq_vFREkWJA/view?usp=sharing) на архив *capstone_user_identification* (~7 Mb, в развернутом виде ~ 60 Mb). \n",
        "\n",
        "В финальном проекте уже придется столкнуться с тем, что не все операции можно выполнить за разумное время (скажем, перебрать с кросс-валидацией 100 комбинаций параметров случайного леса на этих данных Вы вряд ли сможете), поэтому мы будем использовать параллельно 2 выборки: по 10 пользователям и по 150. Для 10 пользователей будем писать и отлаживать код, для 150 – будет рабочая версия. \n",
        "\n",
        "Данные устроены следующем образом:\n",
        "\n",
        " - В каталоге 10users лежат 10 csv-файлов с названием вида \"user[USER_ID].csv\", где [USER_ID] – ID пользователя;\n",
        " - Аналогично для каталога 150users – там 150 файлов;\n",
        " - В каталоге 3users – игрушечный пример из 3 файлов, это для отладки кода предобработки, который Вы далее напишете.\n",
        "\n",
        "На 5 неделе будет задание по [соревнованию](https://www.kaggle.com/c/catch-me-if-you-can-intruder-detection-through-webpage-session-tracking2) Kaggle Inclass, которое организовано специально под Capstone проект нашей специализации. Соревнование уже открыто и, конечно, желающие могут начать уже сейчас.\n",
        "\n",
        "# <center>Неделя 1. Подготовка данных к анализу и построению моделей\n",
        "\n",
        "Первая часть проекта посвящена подготовке данных для дальнейшего описательного анализа и построения прогнозных моделей. Надо будет написать код для предобработки данных (исходно посещенные веб-сайты указаны для каждого пользователя в отдельном файле) и формирования единой обучающей выборки. Также в этой части мы познакомимся с разреженным форматом данных (матрицы `Scipy.sparse`), который хорошо подходит для данной задачи. \n",
        "\n",
        "**План 1 недели:**\n",
        " - Часть 1. Подготовка обучающей выборки\n",
        " - Часть 2. Работа с разреженным форматом данных"
      ]
    },
    {
      "cell_type": "markdown",
      "metadata": {
        "id": "4iw3_-ap3yku"
      },
      "source": [
        "### Задание\n",
        "1. Заполните код в этой тетрадке \n",
        "2. Если вы проходите специализацию Яндеса и МФТИ, пошлите файл с ответами в соответствующем Programming Assignment. <br> Если вы проходите курс ODS, выберите ответы в [веб-форме](https://docs.google.com/forms/d/e/1FAIpQLSedmwHb4cOI32zKJmEP7RvgEjNoz5GbeYRc83qFXVH82KFgGA/viewform). \n"
      ]
    },
    {
      "cell_type": "markdown",
      "metadata": {
        "id": "Hu03Lxsh3yku"
      },
      "source": [
        "**В этой части проекта Вам могут быть полезны видеозаписи следующих лекций 1 и 2 недели курса \"Математика и Python для анализа данных\":**\n",
        "   - [Циклы, функции, генераторы, list comprehension](https://www.coursera.org/learn/mathematics-and-python/lecture/Kd7dL/tsikly-funktsii-ghienieratory-list-comprehension)\n",
        "   - [Чтение данных из файлов](https://www.coursera.org/learn/mathematics-and-python/lecture/8Xvwp/chtieniie-dannykh-iz-failov)\n",
        "   - [Запись файлов, изменение файлов](https://www.coursera.org/learn/mathematics-and-python/lecture/vde7k/zapis-failov-izmienieniie-failov)\n",
        "   - [Pandas.DataFrame](https://www.coursera.org/learn/mathematics-and-python/lecture/rcjAW/pandas-data-frame)\n",
        "   - [Pandas. Индексация и селекция](https://www.coursera.org/learn/mathematics-and-python/lecture/lsXAR/pandas-indieksatsiia-i-sieliektsiia)\n",
        "   \n",
        "**Кроме того, в задании будут использоваться библиотеки Python [`glob`](https://docs.python.org/3/library/glob.html), [`pickle`](https://docs.python.org/2/library/pickle.html) и класс [`csr_matrix`](https://docs.scipy.org/doc/scipy-0.18.1/reference/generated/scipy.sparse.csr_matrix.html) из `Scipy.sparse`.**"
      ]
    },
    {
      "cell_type": "markdown",
      "metadata": {
        "id": "b8vROEhd3ykv"
      },
      "source": [
        "Наконец, для лучшей воспроизводимости результатов приведем список версий основных используемых в проекте библиотек: NumPy, SciPy, Pandas, Matplotlib, Statsmodels и Scikit-learn. Для этого воспользуемся расширением [watermark](https://github.com/rasbt/watermark). Рекомендуется использовать докер-контейнер открытого курса OpenDataScience по машинному обучению, инструкции [тут](https://goo.gl/RrwpNd)."
      ]
    },
    {
      "cell_type": "code",
      "metadata": {
        "colab": {
          "base_uri": "https://localhost:8080/"
        },
        "id": "by6kIBD_3yky",
        "outputId": "5b24e3bb-d05d-4d90-95a3-55c129d07f73"
      },
      "source": [
        "!pip install watermark\n",
        "%load_ext watermark"
      ],
      "execution_count": 1,
      "outputs": [
        {
          "output_type": "stream",
          "text": [
            "Collecting watermark\n",
            "  Downloading https://files.pythonhosted.org/packages/60/fe/3ed83b6122e70dce6fe269dfd763103c333f168bf91037add73ea4fe81c2/watermark-2.0.2-py2.py3-none-any.whl\n",
            "Requirement already satisfied: ipython in /usr/local/lib/python3.6/dist-packages (from watermark) (5.5.0)\n",
            "Requirement already satisfied: pexpect; sys_platform != \"win32\" in /usr/local/lib/python3.6/dist-packages (from ipython->watermark) (4.8.0)\n",
            "Requirement already satisfied: traitlets>=4.2 in /usr/local/lib/python3.6/dist-packages (from ipython->watermark) (4.3.3)\n",
            "Requirement already satisfied: prompt-toolkit<2.0.0,>=1.0.4 in /usr/local/lib/python3.6/dist-packages (from ipython->watermark) (1.0.18)\n",
            "Requirement already satisfied: pygments in /usr/local/lib/python3.6/dist-packages (from ipython->watermark) (2.6.1)\n",
            "Requirement already satisfied: pickleshare in /usr/local/lib/python3.6/dist-packages (from ipython->watermark) (0.7.5)\n",
            "Requirement already satisfied: setuptools>=18.5 in /usr/local/lib/python3.6/dist-packages (from ipython->watermark) (51.1.1)\n",
            "Requirement already satisfied: simplegeneric>0.8 in /usr/local/lib/python3.6/dist-packages (from ipython->watermark) (0.8.1)\n",
            "Requirement already satisfied: decorator in /usr/local/lib/python3.6/dist-packages (from ipython->watermark) (4.4.2)\n",
            "Requirement already satisfied: ptyprocess>=0.5 in /usr/local/lib/python3.6/dist-packages (from pexpect; sys_platform != \"win32\"->ipython->watermark) (0.6.0)\n",
            "Requirement already satisfied: six in /usr/local/lib/python3.6/dist-packages (from traitlets>=4.2->ipython->watermark) (1.15.0)\n",
            "Requirement already satisfied: ipython-genutils in /usr/local/lib/python3.6/dist-packages (from traitlets>=4.2->ipython->watermark) (0.2.0)\n",
            "Requirement already satisfied: wcwidth in /usr/local/lib/python3.6/dist-packages (from prompt-toolkit<2.0.0,>=1.0.4->ipython->watermark) (0.2.5)\n",
            "Installing collected packages: watermark\n",
            "Successfully installed watermark-2.0.2\n"
          ],
          "name": "stdout"
        }
      ]
    },
    {
      "cell_type": "code",
      "metadata": {
        "colab": {
          "base_uri": "https://localhost:8080/"
        },
        "id": "qWNEOU1B3yky",
        "outputId": "7f4a438c-af96-40fa-8588-9298b7ccb103"
      },
      "source": [
        "%watermark -v -m -p numpy,scipy,pandas,matplotlib,statsmodels,sklearn -g"
      ],
      "execution_count": 2,
      "outputs": [
        {
          "output_type": "stream",
          "text": [
            "CPython 3.6.9\n",
            "IPython 5.5.0\n",
            "\n",
            "numpy 1.19.4\n",
            "scipy 1.4.1\n",
            "pandas 1.1.5\n",
            "matplotlib 3.2.2\n",
            "statsmodels 0.10.2\n",
            "sklearn 0.0\n",
            "\n",
            "compiler   : GCC 8.4.0\n",
            "system     : Linux\n",
            "release    : 4.19.112+\n",
            "machine    : x86_64\n",
            "processor  : x86_64\n",
            "CPU cores  : 2\n",
            "interpreter: 64bit\n",
            "Git hash   :\n"
          ],
          "name": "stdout"
        }
      ]
    },
    {
      "cell_type": "code",
      "metadata": {
        "id": "dFhjdLRx3ykz"
      },
      "source": [
        "from __future__ import division, print_function\n",
        "# отключим всякие предупреждения Anaconda\n",
        "import warnings\n",
        "warnings.filterwarnings('ignore')\n",
        "from glob import glob\n",
        "import os\n",
        "import pickle\n",
        "#pip install tqdm\n",
        "from tqdm import tqdm\n",
        "import numpy as np\n",
        "import pandas as pd\n",
        "from scipy.sparse import csr_matrix"
      ],
      "execution_count": 15,
      "outputs": []
    },
    {
      "cell_type": "markdown",
      "metadata": {
        "id": "m9z3X9W93yk0"
      },
      "source": [
        "**Посмотрим на один из файлов с данными о посещенных пользователем (номер 31) веб-страницах.**"
      ]
    },
    {
      "cell_type": "code",
      "metadata": {
        "colab": {
          "base_uri": "https://localhost:8080/"
        },
        "id": "6Peuldy141p7",
        "outputId": "f60c1f35-3caf-4089-d66c-24ebb253774f"
      },
      "source": [
        "from google.colab import drive\n",
        "drive.mount('/content/drive')"
      ],
      "execution_count": 4,
      "outputs": [
        {
          "output_type": "stream",
          "text": [
            "Mounted at /content/drive\n"
          ],
          "name": "stdout"
        }
      ]
    },
    {
      "cell_type": "code",
      "metadata": {
        "collapsed": true,
        "id": "TiUfdiub3yk0"
      },
      "source": [
        "# Поменяйте на свой путь к данным\n",
        "PATH_TO_DATA = '/content/drive/MyDrive/yandex-ml-da/final_project/capstone_user_identification'"
      ],
      "execution_count": 5,
      "outputs": []
    },
    {
      "cell_type": "code",
      "metadata": {
        "collapsed": true,
        "id": "WuaGJLvA3yk0"
      },
      "source": [
        "user31_data = pd.read_csv(os.path.join(PATH_TO_DATA, \n",
        "                                       '10users/user0031.csv'))"
      ],
      "execution_count": 6,
      "outputs": []
    },
    {
      "cell_type": "code",
      "metadata": {
        "colab": {
          "base_uri": "https://localhost:8080/",
          "height": 204
        },
        "id": "Jz-XC23b3yk1",
        "outputId": "aeff34ec-0bff-43af-a34d-913bfc30fda0"
      },
      "source": [
        "user31_data.head()"
      ],
      "execution_count": 7,
      "outputs": [
        {
          "output_type": "execute_result",
          "data": {
            "text/html": [
              "<div>\n",
              "<style scoped>\n",
              "    .dataframe tbody tr th:only-of-type {\n",
              "        vertical-align: middle;\n",
              "    }\n",
              "\n",
              "    .dataframe tbody tr th {\n",
              "        vertical-align: top;\n",
              "    }\n",
              "\n",
              "    .dataframe thead th {\n",
              "        text-align: right;\n",
              "    }\n",
              "</style>\n",
              "<table border=\"1\" class=\"dataframe\">\n",
              "  <thead>\n",
              "    <tr style=\"text-align: right;\">\n",
              "      <th></th>\n",
              "      <th>timestamp</th>\n",
              "      <th>site</th>\n",
              "    </tr>\n",
              "  </thead>\n",
              "  <tbody>\n",
              "    <tr>\n",
              "      <th>0</th>\n",
              "      <td>2013-11-15 08:12:07</td>\n",
              "      <td>fpdownload2.macromedia.com</td>\n",
              "    </tr>\n",
              "    <tr>\n",
              "      <th>1</th>\n",
              "      <td>2013-11-15 08:12:17</td>\n",
              "      <td>laposte.net</td>\n",
              "    </tr>\n",
              "    <tr>\n",
              "      <th>2</th>\n",
              "      <td>2013-11-15 08:12:17</td>\n",
              "      <td>www.laposte.net</td>\n",
              "    </tr>\n",
              "    <tr>\n",
              "      <th>3</th>\n",
              "      <td>2013-11-15 08:12:17</td>\n",
              "      <td>www.google.com</td>\n",
              "    </tr>\n",
              "    <tr>\n",
              "      <th>4</th>\n",
              "      <td>2013-11-15 08:12:18</td>\n",
              "      <td>www.laposte.net</td>\n",
              "    </tr>\n",
              "  </tbody>\n",
              "</table>\n",
              "</div>"
            ],
            "text/plain": [
              "             timestamp                        site\n",
              "0  2013-11-15 08:12:07  fpdownload2.macromedia.com\n",
              "1  2013-11-15 08:12:17                 laposte.net\n",
              "2  2013-11-15 08:12:17             www.laposte.net\n",
              "3  2013-11-15 08:12:17              www.google.com\n",
              "4  2013-11-15 08:12:18             www.laposte.net"
            ]
          },
          "metadata": {
            "tags": []
          },
          "execution_count": 7
        }
      ]
    },
    {
      "cell_type": "markdown",
      "metadata": {
        "id": "AgvFsEFJ3yk1"
      },
      "source": [
        "**Поставим задачу классификации: идентифицировать пользователя по сессии из 10 подряд посещенных сайтов. Объектом в этой задаче будет сессия из 10 сайтов, последовательно посещенных одним и тем же пользователем, признаками – индексы этих 10 сайтов (чуть позже здесь появится \"мешок\" сайтов, подход Bag of Words). Целевым классом будет id пользователя.**"
      ]
    },
    {
      "cell_type": "markdown",
      "metadata": {
        "id": "uNCwGNes3yk1"
      },
      "source": [
        "### <center>Пример для иллюстрации</center>\n",
        "**Пусть пользователя всего 2, длина сессии – 2 сайта.**\n",
        "\n",
        "<center>user0001.csv</center>\n",
        "<style type=\"text/css\">\n",
        ".tg  {border-collapse:collapse;border-spacing:0;}\n",
        ".tg td{font-family:Arial, sans-serif;font-size:14px;padding:10px 5px;border-style:solid;border-width:1px;overflow:hidden;word-break:normal;}\n",
        ".tg th{font-family:Arial, sans-serif;font-size:14px;font-weight:normal;padding:10px 5px;border-style:solid;border-width:1px;overflow:hidden;word-break:normal;}\n",
        ".tg .tg-yw4l{vertical-align:top}\n",
        "</style>\n",
        "<table class=\"tg\">\n",
        "  <tr>\n",
        "    <th class=\"tg-031e\">timestamp</th>\n",
        "    <th class=\"tg-031e\">site</th>\n",
        "  </tr>\n",
        "  <tr>\n",
        "    <td class=\"tg-031e\">00:00:01</td>\n",
        "    <td class=\"tg-031e\">vk.com</td>\n",
        "  </tr>\n",
        "  <tr>\n",
        "    <td class=\"tg-yw4l\">00:00:11</td>\n",
        "    <td class=\"tg-yw4l\">google.com</td>\n",
        "  </tr>\n",
        "  <tr>\n",
        "    <td class=\"tg-031e\">00:00:16</td>\n",
        "    <td class=\"tg-031e\">vk.com</td>\n",
        "  </tr>\n",
        "  <tr>\n",
        "    <td class=\"tg-031e\">00:00:20</td>\n",
        "    <td class=\"tg-031e\">yandex.ru</td>\n",
        "  </tr>\n",
        "</table>\n",
        "\n",
        "<center>user0002.csv</center>\n",
        "<style type=\"text/css\">\n",
        ".tg  {border-collapse:collapse;border-spacing:0;}\n",
        ".tg td{font-family:Arial, sans-serif;font-size:14px;padding:10px 5px;border-style:solid;border-width:1px;overflow:hidden;word-break:normal;}\n",
        ".tg th{font-family:Arial, sans-serif;font-size:14px;font-weight:normal;padding:10px 5px;border-style:solid;border-width:1px;overflow:hidden;word-break:normal;}\n",
        ".tg .tg-yw4l{vertical-align:top}\n",
        "</style>\n",
        "<table class=\"tg\">\n",
        "  <tr>\n",
        "    <th class=\"tg-031e\">timestamp</th>\n",
        "    <th class=\"tg-031e\">site</th>\n",
        "  </tr>\n",
        "  <tr>\n",
        "    <td class=\"tg-031e\">00:00:02</td>\n",
        "    <td class=\"tg-031e\">yandex.ru</td>\n",
        "  </tr>\n",
        "  <tr>\n",
        "    <td class=\"tg-yw4l\">00:00:14</td>\n",
        "    <td class=\"tg-yw4l\">google.com</td>\n",
        "  </tr>\n",
        "  <tr>\n",
        "    <td class=\"tg-031e\">00:00:17</td>\n",
        "    <td class=\"tg-031e\">facebook.com</td>\n",
        "  </tr>\n",
        "  <tr>\n",
        "    <td class=\"tg-031e\">00:00:25</td>\n",
        "    <td class=\"tg-031e\">yandex.ru</td>\n",
        "  </tr>\n",
        "</table>\n",
        "\n",
        "Идем по 1 файлу, нумеруем сайты подряд: vk.com – 1, google.com – 2 и т.д. Далее по второму файлу. \n",
        "\n",
        "Отображение сайтов в их индесы должно получиться таким:\n",
        "\n",
        "<style type=\"text/css\">\n",
        ".tg  {border-collapse:collapse;border-spacing:0;}\n",
        ".tg td{font-family:Arial, sans-serif;font-size:14px;padding:10px 5px;border-style:solid;border-width:1px;overflow:hidden;word-break:normal;}\n",
        ".tg th{font-family:Arial, sans-serif;font-size:14px;font-weight:normal;padding:10px 5px;border-style:solid;border-width:1px;overflow:hidden;word-break:normal;}\n",
        ".tg .tg-yw4l{vertical-align:top}\n",
        "</style>\n",
        "<table class=\"tg\">\n",
        "  <tr>\n",
        "    <th class=\"tg-031e\">site</th>\n",
        "    <th class=\"tg-yw4l\">site_id</th>\n",
        "  </tr>\n",
        "  <tr>\n",
        "    <td class=\"tg-yw4l\">vk.com</td>\n",
        "    <td class=\"tg-yw4l\">1</td>\n",
        "  </tr>\n",
        "  <tr>\n",
        "    <td class=\"tg-yw4l\">google.com</td>\n",
        "    <td class=\"tg-yw4l\">2</td>\n",
        "  </tr>\n",
        "  <tr>\n",
        "    <td class=\"tg-yw4l\">yandex.ru</td>\n",
        "    <td class=\"tg-yw4l\">3</td>\n",
        "  </tr>\n",
        "  <tr>\n",
        "    <td class=\"tg-yw4l\">facebook.com</td>\n",
        "    <td class=\"tg-yw4l\">4</td>\n",
        "  </tr>\n",
        "</table>\n",
        "\n",
        "Тогда обучающая выборка будет такой (целевой признак – user_id):\n",
        "<style type=\"text/css\">\n",
        ".tg  {border-collapse:collapse;border-spacing:0;}\n",
        ".tg td{font-family:Arial, sans-serif;font-size:14px;padding:10px 5px;border-style:solid;border-width:1px;overflow:hidden;word-break:normal;}\n",
        ".tg th{font-family:Arial, sans-serif;font-size:14px;font-weight:normal;padding:10px 5px;border-style:solid;border-width:1px;overflow:hidden;word-break:normal;}\n",
        ".tg .tg-s6z2{text-align:center}\n",
        ".tg .tg-baqh{text-align:center;vertical-align:top}\n",
        ".tg .tg-hgcj{font-weight:bold;text-align:center}\n",
        ".tg .tg-amwm{font-weight:bold;text-align:center;vertical-align:top}\n",
        "</style>\n",
        "<table class=\"tg\">\n",
        "  <tr>\n",
        "    <th class=\"tg-hgcj\">session_id</th>\n",
        "    <th class=\"tg-hgcj\">site1</th>\n",
        "    <th class=\"tg-hgcj\">site2</th>\n",
        "    <th class=\"tg-amwm\">user_id</th>\n",
        "  </tr>\n",
        "  <tr>\n",
        "    <td class=\"tg-s6z2\">1</td>\n",
        "    <td class=\"tg-s6z2\">1</td>\n",
        "    <td class=\"tg-s6z2\">2</td>\n",
        "    <td class=\"tg-baqh\">1</td>\n",
        "  </tr>\n",
        "  <tr>\n",
        "    <td class=\"tg-s6z2\">2</td>\n",
        "    <td class=\"tg-s6z2\">1</td>\n",
        "    <td class=\"tg-s6z2\">3</td>\n",
        "    <td class=\"tg-baqh\">1</td>\n",
        "  </tr>\n",
        "  <tr>\n",
        "    <td class=\"tg-s6z2\">3</td>\n",
        "    <td class=\"tg-s6z2\">3</td>\n",
        "    <td class=\"tg-s6z2\">2</td>\n",
        "    <td class=\"tg-baqh\">2</td>\n",
        "  </tr>\n",
        "  <tr>\n",
        "    <td class=\"tg-s6z2\">4</td>\n",
        "    <td class=\"tg-s6z2\">4</td>\n",
        "    <td class=\"tg-s6z2\">3</td>\n",
        "    <td class=\"tg-baqh\">2</td>\n",
        "  </tr>\n",
        "</table>\n",
        "\n",
        "Здесь 1 объект – это сессия из 2 посещенных сайтов 1-ым пользователем (target=1). Это сайты vk.com и google.com (номер 1 и 2). И так далее, всего 4 сессии. Пока сессии у нас не пересекаются по сайтам, то есть посещение каждого отдельного сайта относится только к одной сессии."
      ]
    },
    {
      "cell_type": "markdown",
      "metadata": {
        "id": "hOV1uezc3yk2"
      },
      "source": [
        "## Часть 1. Подготовка обучающей выборки\n",
        "Реализуйте функцию *prepare_train_set*, которая принимает на вход путь к каталогу с csv-файлами *path_to_csv_files* и параметр *session_length* – длину сессии, а возвращает 2 объекта:\n",
        "- DataFrame, в котором строки соответствуют уникальным сессиям из *session_length* сайтов, *session_length* столбцов – индексам этих *session_length* сайтов и последний столбец – ID пользователя\n",
        "- частотный словарь сайтов вида {'site_string': [site_id, site_freq]}, например для недавнего игрушечного примера это будет {'vk.com': (1, 2), 'google.com': (2, 2), 'yandex.ru': (3, 3), 'facebook.com': (4, 1)}\n",
        "\n",
        "Детали:\n",
        "- Смотрите чуть ниже пример вывода, что должна возвращать функция\n",
        "- Используйте `glob` (или аналоги) для обхода файлов в каталоге. Для определенности, отсортируйте список файлов лексикографически. Удобно использовать `tqdm_notebook` (или просто `tqdm` в случае python-скрипта) для отслеживания числа выполненных итераций цикла\n",
        "- Создайте частотный словарь уникальных сайтов (вида {'site_string': (site_id, site_freq)}) и заполняйте его по ходу чтения файлов. Начните с 1\n",
        "- Рекомендуется меньшие индексы давать более часто попадающимся сайтам (приницип наименьшего описания)\n",
        "- Не делайте entity recognition, считайте *google.com*, *http://www.google.com* и *www.google.com* разными сайтами (подключить entity recognition можно уже в рамках индивидуальной работы над проектом)\n",
        "- Скорее всего в файле число записей не кратно числу *session_length*. Тогда последняя сессия будет короче. Остаток заполняйте нулями. То есть если в файле 24 записи и сессии длины 10, то 3 сессия будет состоять из 4 сайтов, и ей мы сопоставим вектор [*site1_id*, *site2_id*, *site3_id*, *site4_id*, 0, 0, 0, 0, 0, 0, *user_id*] \n",
        "- В итоге некоторые сессии могут повторяться – оставьте как есть, не удаляйте дубликаты. Если в двух сессиях все сайты одинаковы, но сессии принадлежат разным пользователям, то тоже оставляйте как есть, это естественная неопределенность в данных\n",
        "- Не оставляйте в частотном словаре сайт 0 (уже в конце, когда функция возвращает этот словарь)\n",
        "- 150 файлов из *capstone_websites_data/150users/* у меня обработались за 1.7 секунды, но многое, конечно, зависит от реализации функции и от используемого железа. И вообще, первая реализация скорее всего будет не самой эффективной, дальше можно заняться профилированием (особенно если планируете запускать этот код для 3000 пользователей). Также эффективная реализация этой функции поможет нам на следующей неделе."
      ]
    },
    {
      "cell_type": "code",
      "metadata": {
        "collapsed": true,
        "id": "imiG1Cv13yk3"
      },
      "source": [
        "def prepare_train_set(path_to_csv_files, session_length=10):\n",
        "    frequency_dict = {}\n",
        "    session_list = []\n",
        "    files = sorted(glob(os.path.join(path_to_csv_files, 'user[0-9][0-9][0-9][0-9].csv')))\n",
        "    for file in tqdm(files):\n",
        "      site_list = pd.read_csv(file).site\n",
        "      for site in site_list:\n",
        "        if site not in frequency_dict:\n",
        "          frequency_dict[site] = 1\n",
        "        else:\n",
        "          frequency_dict[site] += 1\n",
        "    result_frequency_dict = {}\n",
        "    items = list(frequency_dict.items())\n",
        "    items.sort(key=lambda x: x[1], reverse=True)\n",
        "    for i, item in enumerate(items):\n",
        "      result_frequency_dict[item[0]] = (i + 1, item[1])\n",
        "    for file in tqdm(files):\n",
        "      site_list = pd.read_csv(file).site\n",
        "      session = {}\n",
        "      length = 0\n",
        "      for i, site in enumerate(site_list):\n",
        "        if (i == len(site_list) - 1) or (length == session_length - 1):\n",
        "          length += 1\n",
        "          session['site{}'.format(length)] = result_frequency_dict[site][0]\n",
        "          session['user_id'] = int(file.strip('.csv')[-4:])\n",
        "          session_list.append(session)\n",
        "          length = 0\n",
        "          session = {}\n",
        "        else:\n",
        "          length += 1\n",
        "          session['site{}'.format(length)] = result_frequency_dict[site][0]\n",
        "    columns = ['site{}'.format(i+1) for i in range(session_length)] + ['user_id']\n",
        "    dFrame = pd.DataFrame(session_list, columns=columns).fillna(0).astype(int)\n",
        "    return dFrame, result_frequency_dict"
      ],
      "execution_count": 97,
      "outputs": []
    },
    {
      "cell_type": "markdown",
      "metadata": {
        "id": "HLRw2_F_3yk4"
      },
      "source": [
        "**Примените полученную функцию к игрушечному примеру, убедитесь, что все работает как надо.**"
      ]
    },
    {
      "cell_type": "code",
      "metadata": {
        "colab": {
          "base_uri": "https://localhost:8080/"
        },
        "id": "Fmhha6Uw3yk4",
        "outputId": "a95317fe-e229-4ffd-bd70-cee48c4a516e"
      },
      "source": [
        "!cat $PATH_TO_DATA/3users/user0001.csv"
      ],
      "execution_count": 98,
      "outputs": [
        {
          "output_type": "stream",
          "text": [
            "timestamp,site\n",
            "2013-11-15 09:28:17,vk.com\n",
            "2013-11-15 09:33:04,oracle.com\n",
            "2013-11-15 09:52:48,oracle.com\n",
            "2013-11-15 11:37:26,geo.mozilla.org\n",
            "2013-11-15 11:40:32,oracle.com\n",
            "2013-11-15 11:40:34,google.com\n",
            "2013-11-15 11:40:35,accounts.google.com\n",
            "2013-11-15 11:40:37,mail.google.com\n",
            "2013-11-15 11:40:40,apis.google.com\n",
            "2013-11-15 11:41:35,plus.google.com\n",
            "2013-11-15 12:40:35,vk.com\n",
            "2013-11-15 12:40:37,google.com\n",
            "2013-11-15 12:40:40,google.com\n",
            "2013-11-15 12:41:35,google.com\n"
          ],
          "name": "stdout"
        }
      ]
    },
    {
      "cell_type": "code",
      "metadata": {
        "colab": {
          "base_uri": "https://localhost:8080/"
        },
        "id": "KR5ezSXt3yk5",
        "outputId": "39e49d08-5ef1-4dbe-968f-ed409ae6feb9"
      },
      "source": [
        "!cat $PATH_TO_DATA/3users/user0002.csv"
      ],
      "execution_count": 99,
      "outputs": [
        {
          "output_type": "stream",
          "text": [
            "timestamp,site\n",
            "2013-11-15 09:28:17,vk.com\n",
            "2013-11-15 09:33:04,oracle.com\n",
            "2013-11-15 09:52:48,football.kulichki.ru\n",
            "2013-11-15 11:37:26,football.kulichki.ru\n",
            "2013-11-15 11:40:32,oracle.com\n"
          ],
          "name": "stdout"
        }
      ]
    },
    {
      "cell_type": "code",
      "metadata": {
        "colab": {
          "base_uri": "https://localhost:8080/"
        },
        "id": "WZZuoaon3yk5",
        "outputId": "d22a74a1-5eee-4157-d54a-d3c6393f8ddf"
      },
      "source": [
        "!cat $PATH_TO_DATA/3users/user0003.csv"
      ],
      "execution_count": 100,
      "outputs": [
        {
          "output_type": "stream",
          "text": [
            "timestamp,site\n",
            "2013-11-15 09:28:17,meduza.io\n",
            "2013-11-15 09:33:04,google.com\n",
            "2013-11-15 09:52:48,oracle.com\n",
            "2013-11-15 11:37:26,google.com\n",
            "2013-11-15 11:40:32,oracle.com\n",
            "2013-11-15 11:40:34,google.com\n",
            "2013-11-15 11:40:35,google.com\n",
            "2013-11-15 11:40:37,mail.google.com\n",
            "2013-11-15 11:40:40,yandex.ru\n",
            "2013-11-15 11:41:35,meduza.io\n",
            "2013-11-15 12:28:17,meduza.io\n",
            "2013-11-15 12:33:04,google.com\n",
            "2013-11-15 12:52:48,oracle.com\n"
          ],
          "name": "stdout"
        }
      ]
    },
    {
      "cell_type": "code",
      "metadata": {
        "colab": {
          "base_uri": "https://localhost:8080/"
        },
        "id": "2XW9OpnT3yk5",
        "outputId": "4d577e45-6536-4765-cb3e-af0e829100a1"
      },
      "source": [
        "train_data_toy, site_freq_3users = prepare_train_set(os.path.join(PATH_TO_DATA, '3users'), \n",
        "                                                     session_length=10)"
      ],
      "execution_count": 101,
      "outputs": [
        {
          "output_type": "stream",
          "text": [
            "100%|██████████| 3/3 [00:00<00:00, 294.28it/s]\n",
            "100%|██████████| 3/3 [00:00<00:00, 280.76it/s]\n"
          ],
          "name": "stderr"
        }
      ]
    },
    {
      "cell_type": "code",
      "metadata": {
        "colab": {
          "base_uri": "https://localhost:8080/",
          "height": 204
        },
        "id": "NRNH5euJ3yk6",
        "outputId": "45fa882e-edc0-4729-fffd-09e02b01f6a1"
      },
      "source": [
        "train_data_toy"
      ],
      "execution_count": 102,
      "outputs": [
        {
          "output_type": "execute_result",
          "data": {
            "text/html": [
              "<div>\n",
              "<style scoped>\n",
              "    .dataframe tbody tr th:only-of-type {\n",
              "        vertical-align: middle;\n",
              "    }\n",
              "\n",
              "    .dataframe tbody tr th {\n",
              "        vertical-align: top;\n",
              "    }\n",
              "\n",
              "    .dataframe thead th {\n",
              "        text-align: right;\n",
              "    }\n",
              "</style>\n",
              "<table border=\"1\" class=\"dataframe\">\n",
              "  <thead>\n",
              "    <tr style=\"text-align: right;\">\n",
              "      <th></th>\n",
              "      <th>site1</th>\n",
              "      <th>site2</th>\n",
              "      <th>site3</th>\n",
              "      <th>site4</th>\n",
              "      <th>site5</th>\n",
              "      <th>site6</th>\n",
              "      <th>site7</th>\n",
              "      <th>site8</th>\n",
              "      <th>site9</th>\n",
              "      <th>site10</th>\n",
              "      <th>user_id</th>\n",
              "    </tr>\n",
              "  </thead>\n",
              "  <tbody>\n",
              "    <tr>\n",
              "      <th>0</th>\n",
              "      <td>3</td>\n",
              "      <td>2</td>\n",
              "      <td>2</td>\n",
              "      <td>7</td>\n",
              "      <td>2</td>\n",
              "      <td>1</td>\n",
              "      <td>8</td>\n",
              "      <td>5</td>\n",
              "      <td>9</td>\n",
              "      <td>10</td>\n",
              "      <td>1</td>\n",
              "    </tr>\n",
              "    <tr>\n",
              "      <th>1</th>\n",
              "      <td>3</td>\n",
              "      <td>1</td>\n",
              "      <td>1</td>\n",
              "      <td>1</td>\n",
              "      <td>0</td>\n",
              "      <td>0</td>\n",
              "      <td>0</td>\n",
              "      <td>0</td>\n",
              "      <td>0</td>\n",
              "      <td>0</td>\n",
              "      <td>1</td>\n",
              "    </tr>\n",
              "    <tr>\n",
              "      <th>2</th>\n",
              "      <td>3</td>\n",
              "      <td>2</td>\n",
              "      <td>6</td>\n",
              "      <td>6</td>\n",
              "      <td>2</td>\n",
              "      <td>0</td>\n",
              "      <td>0</td>\n",
              "      <td>0</td>\n",
              "      <td>0</td>\n",
              "      <td>0</td>\n",
              "      <td>2</td>\n",
              "    </tr>\n",
              "    <tr>\n",
              "      <th>3</th>\n",
              "      <td>4</td>\n",
              "      <td>1</td>\n",
              "      <td>2</td>\n",
              "      <td>1</td>\n",
              "      <td>2</td>\n",
              "      <td>1</td>\n",
              "      <td>1</td>\n",
              "      <td>5</td>\n",
              "      <td>11</td>\n",
              "      <td>4</td>\n",
              "      <td>3</td>\n",
              "    </tr>\n",
              "    <tr>\n",
              "      <th>4</th>\n",
              "      <td>4</td>\n",
              "      <td>1</td>\n",
              "      <td>2</td>\n",
              "      <td>0</td>\n",
              "      <td>0</td>\n",
              "      <td>0</td>\n",
              "      <td>0</td>\n",
              "      <td>0</td>\n",
              "      <td>0</td>\n",
              "      <td>0</td>\n",
              "      <td>3</td>\n",
              "    </tr>\n",
              "  </tbody>\n",
              "</table>\n",
              "</div>"
            ],
            "text/plain": [
              "   site1  site2  site3  site4  site5  ...  site7  site8  site9  site10  user_id\n",
              "0      3      2      2      7      2  ...      8      5      9      10        1\n",
              "1      3      1      1      1      0  ...      0      0      0       0        1\n",
              "2      3      2      6      6      2  ...      0      0      0       0        2\n",
              "3      4      1      2      1      2  ...      1      5     11       4        3\n",
              "4      4      1      2      0      0  ...      0      0      0       0        3\n",
              "\n",
              "[5 rows x 11 columns]"
            ]
          },
          "metadata": {
            "tags": []
          },
          "execution_count": 102
        }
      ]
    },
    {
      "cell_type": "markdown",
      "metadata": {
        "id": "QVI3MLk_3yk6"
      },
      "source": [
        "Частоты сайтов (второй элемент кортежа) точно должны быть такими, нумерация может быть любой (первые элементы кортежей могут отличаться)."
      ]
    },
    {
      "cell_type": "code",
      "metadata": {
        "colab": {
          "base_uri": "https://localhost:8080/"
        },
        "id": "eV9OI36z3yk6",
        "outputId": "20be50fd-8922-4c3e-cb5f-8a766b6cbb19"
      },
      "source": [
        "site_freq_3users"
      ],
      "execution_count": 103,
      "outputs": [
        {
          "output_type": "execute_result",
          "data": {
            "text/plain": [
              "{'accounts.google.com': (8, 1),\n",
              " 'apis.google.com': (9, 1),\n",
              " 'football.kulichki.ru': (6, 2),\n",
              " 'geo.mozilla.org': (7, 1),\n",
              " 'google.com': (1, 9),\n",
              " 'mail.google.com': (5, 2),\n",
              " 'meduza.io': (4, 3),\n",
              " 'oracle.com': (2, 8),\n",
              " 'plus.google.com': (10, 1),\n",
              " 'vk.com': (3, 3),\n",
              " 'yandex.ru': (11, 1)}"
            ]
          },
          "metadata": {
            "tags": []
          },
          "execution_count": 103
        }
      ]
    },
    {
      "cell_type": "markdown",
      "metadata": {
        "id": "DzYe7VHH3yk6"
      },
      "source": [
        "Примените полученную функцию к данным по 10 пользователям.\n",
        "\n",
        "**<font color='red'> Вопрос 1. </font> Сколько уникальных сессий из 10 сайтов в выборке с 10 пользователями?**"
      ]
    },
    {
      "cell_type": "code",
      "metadata": {
        "collapsed": true,
        "colab": {
          "base_uri": "https://localhost:8080/"
        },
        "id": "SeQ-QZkA3yk7",
        "outputId": "4077e9d7-6e62-4f46-ec2a-5f377dffe0e2"
      },
      "source": [
        "train_data_10users, site_freq_10users = prepare_train_set(os.path.join(PATH_TO_DATA, '10users'), \r\n",
        "                                                     session_length=10)"
      ],
      "execution_count": 104,
      "outputs": [
        {
          "output_type": "stream",
          "text": [
            "100%|██████████| 10/10 [00:00<00:00, 69.90it/s]\n",
            "100%|██████████| 10/10 [00:00<00:00, 32.46it/s]\n"
          ],
          "name": "stderr"
        }
      ]
    },
    {
      "cell_type": "code",
      "metadata": {
        "colab": {
          "base_uri": "https://localhost:8080/"
        },
        "id": "hPeq29tMOCAn",
        "outputId": "5ec1b48a-3c67-43f5-8d8b-3fb63a6d38ef"
      },
      "source": [
        "train_data_10users.shape[0]"
      ],
      "execution_count": 105,
      "outputs": [
        {
          "output_type": "execute_result",
          "data": {
            "text/plain": [
              "14061"
            ]
          },
          "metadata": {
            "tags": []
          },
          "execution_count": 105
        }
      ]
    },
    {
      "cell_type": "markdown",
      "metadata": {
        "id": "H16eXa4i3yk7"
      },
      "source": [
        "\r\n",
        "**<font color='red'> Вопрос 2. </font> Сколько всего уникальных сайтов в выборке из 10 пользователей?**"
      ]
    },
    {
      "cell_type": "code",
      "metadata": {
        "collapsed": true,
        "colab": {
          "base_uri": "https://localhost:8080/"
        },
        "id": "KiDXm-8R3yk7",
        "outputId": "c117d22e-601d-4eaa-fe54-79f105bb06f8"
      },
      "source": [
        "len(site_freq_10users)"
      ],
      "execution_count": 106,
      "outputs": [
        {
          "output_type": "execute_result",
          "data": {
            "text/plain": [
              "4913"
            ]
          },
          "metadata": {
            "tags": []
          },
          "execution_count": 106
        }
      ]
    },
    {
      "cell_type": "markdown",
      "metadata": {
        "id": "0eNRWSFZ3yk7"
      },
      "source": [
        "Примените полученную функцию к данным по 150 пользователям.\n",
        "\n",
        "**<font color='red'> Вопрос 3. </font> Сколько уникальных сессий из 10 сайтов в выборке с 150 пользователями?**"
      ]
    },
    {
      "cell_type": "code",
      "metadata": {
        "collapsed": true,
        "colab": {
          "base_uri": "https://localhost:8080/"
        },
        "id": "Bha5Q_Og3yk8",
        "outputId": "90b3d7b9-382d-43a6-f558-1deb41f9d234"
      },
      "source": [
        "%%time\n",
        "train_data_150users, site_freq_150users = prepare_train_set(os.path.join(PATH_TO_DATA, '150users'), \n",
        "                                                     session_length=10)"
      ],
      "execution_count": 107,
      "outputs": [
        {
          "output_type": "stream",
          "text": [
            "100%|██████████| 150/150 [00:01<00:00, 98.50it/s] \n",
            "100%|██████████| 150/150 [00:03<00:00, 46.75it/s]\n"
          ],
          "name": "stderr"
        },
        {
          "output_type": "stream",
          "text": [
            "CPU times: user 4.56 s, sys: 222 ms, total: 4.78 s\n",
            "Wall time: 5.17 s\n"
          ],
          "name": "stdout"
        }
      ]
    },
    {
      "cell_type": "code",
      "metadata": {
        "colab": {
          "base_uri": "https://localhost:8080/"
        },
        "id": "fWHi3SjPSwLk",
        "outputId": "c2a3854c-d4a0-4e1c-c5ce-31a553574568"
      },
      "source": [
        "train_data_150users.shape[0]"
      ],
      "execution_count": 108,
      "outputs": [
        {
          "output_type": "execute_result",
          "data": {
            "text/plain": [
              "137019"
            ]
          },
          "metadata": {
            "tags": []
          },
          "execution_count": 108
        }
      ]
    },
    {
      "cell_type": "markdown",
      "metadata": {
        "id": "a3WywAbI3yk8"
      },
      "source": [
        "**<font color='red'> Вопрос 4. </font> Сколько всего уникальных сайтов в выборке из 150 пользователей?**"
      ]
    },
    {
      "cell_type": "code",
      "metadata": {
        "collapsed": true,
        "colab": {
          "base_uri": "https://localhost:8080/"
        },
        "id": "XII-KOpy3yk8",
        "outputId": "8137d8eb-ba61-4c6a-a5e3-cede7d892c2f"
      },
      "source": [
        "len(site_freq_150users)"
      ],
      "execution_count": 109,
      "outputs": [
        {
          "output_type": "execute_result",
          "data": {
            "text/plain": [
              "27797"
            ]
          },
          "metadata": {
            "tags": []
          },
          "execution_count": 109
        }
      ]
    },
    {
      "cell_type": "markdown",
      "metadata": {
        "id": "1zCk7fsB3yk8"
      },
      "source": [
        "**<font color='red'> Вопрос 5. </font> Какой из этих сайтов НЕ входит в топ-10 самых популярных сайтов среди посещенных 150 пользователями?**\n",
        "- www.google.fr\n",
        "- www.youtube.com\n",
        "- safebrowsing-cache.google.com\n",
        "- www.linkedin.com"
      ]
    },
    {
      "cell_type": "code",
      "metadata": {
        "collapsed": true,
        "colab": {
          "base_uri": "https://localhost:8080/"
        },
        "id": "bX0PvwOp3yk8",
        "outputId": "924b7e8f-5cd6-4fe6-fecb-7452baf192ee"
      },
      "source": [
        "choice_list = ['www.google.fr', 'www.youtube.com', 'safebrowsing-cache.google.com', 'www.linkedin.com']\r\n",
        "for site in choice_list:\r\n",
        "  if site not in list(site_freq_150users.keys())[:10]:\r\n",
        "    print(site)"
      ],
      "execution_count": 110,
      "outputs": [
        {
          "output_type": "stream",
          "text": [
            "www.linkedin.com\n"
          ],
          "name": "stdout"
        }
      ]
    },
    {
      "cell_type": "code",
      "metadata": {
        "colab": {
          "base_uri": "https://localhost:8080/"
        },
        "id": "4TWXNmg1UbL5",
        "outputId": "9a2a9896-df9d-4fe9-c054-b916b2c7dcda"
      },
      "source": [
        "list(site_freq_150users.keys())[:10]"
      ],
      "execution_count": 111,
      "outputs": [
        {
          "output_type": "execute_result",
          "data": {
            "text/plain": [
              "['www.google.fr',\n",
              " 'www.google.com',\n",
              " 'www.facebook.com',\n",
              " 'apis.google.com',\n",
              " 's.youtube.com',\n",
              " 'clients1.google.com',\n",
              " 'mail.google.com',\n",
              " 'plus.google.com',\n",
              " 'safebrowsing-cache.google.com',\n",
              " 'www.youtube.com']"
            ]
          },
          "metadata": {
            "tags": []
          },
          "execution_count": 111
        }
      ]
    },
    {
      "cell_type": "markdown",
      "metadata": {
        "id": "r8RxrKHt3yk9"
      },
      "source": [
        "**Для дальнейшего анализа запишем полученные объекты DataFrame в csv-файлы.**"
      ]
    },
    {
      "cell_type": "code",
      "metadata": {
        "collapsed": true,
        "id": "9_z5ne2p3yk9"
      },
      "source": [
        "train_data_10users.to_csv(os.path.join(PATH_TO_DATA, \n",
        "                                       'train_data_10users.csv'), \n",
        "                        index_label='session_id', float_format='%d')\n",
        "train_data_150users.to_csv(os.path.join(PATH_TO_DATA, \n",
        "                                        'train_data_150users.csv'), \n",
        "                         index_label='session_id', float_format='%d')"
      ],
      "execution_count": 112,
      "outputs": []
    },
    {
      "cell_type": "markdown",
      "metadata": {
        "id": "QIUn6BMp3yk9"
      },
      "source": [
        "## Часть 2. Работа с разреженным форматом данных"
      ]
    },
    {
      "cell_type": "markdown",
      "metadata": {
        "id": "EBGDtntI3yk9"
      },
      "source": [
        "Если так подумать, то полученные признаки *site1*, ..., *site10* смысла не имеют как признаки в задаче классификации. А вот если воспользоваться идеей мешка слов из анализа текстов – это другое дело. Создадим новые матрицы, в которых строкам будут соответствовать сессии из 10 сайтов, а столбцам – индексы сайтов. На пересечении строки $i$ и столбца $j$ будет стоять число $n_{ij}$ – cколько раз сайт $j$ встретился в сессии номер $i$. Делать это будем с помощью разреженных матриц Scipy – [csr_matrix](https://docs.scipy.org/doc/scipy-0.18.1/reference/generated/scipy.sparse.csr_matrix.html). Прочитайте документацию, разберитесь, как использовать разреженные матрицы и создайте такие матрицы для наших данных. Сначала проверьте на игрушечном примере, затем примените для 10 и 150 пользователей. \n",
        "\n",
        "Обратите внимание, что в коротких сессиях, меньше 10 сайтов, у нас остались нули, так что первый признак (сколько раз попался 0) по смыслу отличен от остальных (сколько раз попался сайт с индексом $i$). Поэтому первый столбец разреженной матрицы надо будет удалить. "
      ]
    },
    {
      "cell_type": "code",
      "metadata": {
        "collapsed": true,
        "id": "_hzRaXpB3yk9"
      },
      "source": [
        "X_toy, y_toy = train_data_toy.iloc[:, :-1].values, train_data_toy.iloc[:, -1].values"
      ],
      "execution_count": 113,
      "outputs": []
    },
    {
      "cell_type": "code",
      "metadata": {
        "colab": {
          "base_uri": "https://localhost:8080/"
        },
        "id": "PArSV2Qk3yk-",
        "outputId": "7c3d247c-3e70-4659-8ce6-5e3692bafaef"
      },
      "source": [
        "X_toy"
      ],
      "execution_count": 114,
      "outputs": [
        {
          "output_type": "execute_result",
          "data": {
            "text/plain": [
              "array([[ 3,  2,  2,  7,  2,  1,  8,  5,  9, 10],\n",
              "       [ 3,  1,  1,  1,  0,  0,  0,  0,  0,  0],\n",
              "       [ 3,  2,  6,  6,  2,  0,  0,  0,  0,  0],\n",
              "       [ 4,  1,  2,  1,  2,  1,  1,  5, 11,  4],\n",
              "       [ 4,  1,  2,  0,  0,  0,  0,  0,  0,  0]])"
            ]
          },
          "metadata": {
            "tags": []
          },
          "execution_count": 114
        }
      ]
    },
    {
      "cell_type": "code",
      "metadata": {
        "id": "vEOrgq-9QOaK"
      },
      "source": [
        "def get_parameters(x):\r\n",
        "  data = []\r\n",
        "  indices = []\r\n",
        "  indptr = [0]\r\n",
        "  vocabulary = {}\r\n",
        "  for session in x:\r\n",
        "    for site in session:\r\n",
        "      index = vocabulary.setdefault(site, site)\r\n",
        "      indices.append(index)\r\n",
        "      data.append(1)\r\n",
        "    indptr.append(len(indices))\r\n",
        "  return [data, indices, indptr]"
      ],
      "execution_count": 115,
      "outputs": []
    },
    {
      "cell_type": "code",
      "metadata": {
        "collapsed": true,
        "id": "9fv66-bE3yk-"
      },
      "source": [
        "data, indices, indptr = get_parameters(X_toy)\r\n",
        "X_sparse_toy = csr_matrix((data, indices, indptr))[:, 1:]"
      ],
      "execution_count": 116,
      "outputs": []
    },
    {
      "cell_type": "markdown",
      "metadata": {
        "id": "P0D9pE-u3yk-"
      },
      "source": [
        "**Размерность разреженной матрицы должна получиться равной 11, поскольку в игрушечном примере 3 пользователя посетили 11 уникальных сайтов.**"
      ]
    },
    {
      "cell_type": "code",
      "metadata": {
        "colab": {
          "base_uri": "https://localhost:8080/"
        },
        "id": "VYYHwYMK3yk-",
        "outputId": "75838e52-a19d-4e1d-83b7-4dafd0ea9915"
      },
      "source": [
        "X_sparse_toy.todense()"
      ],
      "execution_count": 117,
      "outputs": [
        {
          "output_type": "execute_result",
          "data": {
            "text/plain": [
              "matrix([[1, 3, 1, 0, 1, 0, 1, 1, 1, 1, 0],\n",
              "        [3, 0, 1, 0, 0, 0, 0, 0, 0, 0, 0],\n",
              "        [0, 2, 1, 0, 0, 2, 0, 0, 0, 0, 0],\n",
              "        [4, 2, 0, 2, 1, 0, 0, 0, 0, 0, 1],\n",
              "        [1, 1, 0, 1, 0, 0, 0, 0, 0, 0, 0]])"
            ]
          },
          "metadata": {
            "tags": []
          },
          "execution_count": 117
        }
      ]
    },
    {
      "cell_type": "code",
      "metadata": {
        "collapsed": true,
        "id": "_O8InOas3yk-"
      },
      "source": [
        "X_10users, y_10users = train_data_10users.iloc[:, :-1].values, \\\n",
        "                       train_data_10users.iloc[:, -1].values\n",
        "X_150users, y_150users = train_data_150users.iloc[:, :-1].values, \\\n",
        "                         train_data_150users.iloc[:, -1].values"
      ],
      "execution_count": 118,
      "outputs": []
    },
    {
      "cell_type": "code",
      "metadata": {
        "collapsed": true,
        "id": "26teNdh03yk_"
      },
      "source": [
        "data, indices, indptr = get_parameters(X_10users)\n",
        "X_sparse_10users = csr_matrix((data, indices, indptr))[:,1:]\n",
        "data, indices, indptr = get_parameters(X_150users)\n",
        "X_sparse_150users = csr_matrix((data, indices, indptr))[:,1:]"
      ],
      "execution_count": 119,
      "outputs": []
    },
    {
      "cell_type": "markdown",
      "metadata": {
        "id": "Ow1o2Twe3yk_"
      },
      "source": [
        "**Сохраним эти разреженные матрицы с помощью [pickle](https://docs.python.org/2/library/pickle.html) (сериализация в Python), также сохраним вектора *y_10users, y_150users* – целевые значения (id пользователя)  в выборках из 10 и 150 пользователей. То что названия этих матриц начинаются с X и y, намекает на то, что на этих данных мы будем проверять первые модели классификации.\n",
        "Наконец, сохраним также и частотные словари сайтов для 3, 10 и 150 пользователей.**"
      ]
    },
    {
      "cell_type": "code",
      "metadata": {
        "collapsed": true,
        "id": "5Denc1ZB3yk_"
      },
      "source": [
        "with open(os.path.join(PATH_TO_DATA, 'X_sparse_10users.pkl'), 'wb') as X10_pkl:\n",
        "    pickle.dump(X_sparse_10users, X10_pkl, protocol=2)\n",
        "with open(os.path.join(PATH_TO_DATA, 'y_10users.pkl'), 'wb') as y10_pkl:\n",
        "    pickle.dump(y_10users, y10_pkl, protocol=2)\n",
        "with open(os.path.join(PATH_TO_DATA, 'X_sparse_150users.pkl'), 'wb') as X150_pkl:\n",
        "    pickle.dump(X_sparse_150users, X150_pkl, protocol=2)\n",
        "with open(os.path.join(PATH_TO_DATA, 'y_150users.pkl'), 'wb') as y150_pkl:\n",
        "    pickle.dump(y_150users, y150_pkl, protocol=2)\n",
        "with open(os.path.join(PATH_TO_DATA, 'site_freq_3users.pkl'), 'wb') as site_freq_3users_pkl:\n",
        "    pickle.dump(site_freq_3users, site_freq_3users_pkl, protocol=2)\n",
        "with open(os.path.join(PATH_TO_DATA, 'site_freq_10users.pkl'), 'wb') as site_freq_10users_pkl:\n",
        "    pickle.dump(site_freq_10users, site_freq_10users_pkl, protocol=2)\n",
        "with open(os.path.join(PATH_TO_DATA, 'site_freq_150users.pkl'), 'wb') as site_freq_150users_pkl:\n",
        "    pickle.dump(site_freq_150users, site_freq_150users_pkl, protocol=2)"
      ],
      "execution_count": 120,
      "outputs": []
    },
    {
      "cell_type": "markdown",
      "metadata": {
        "id": "ifV6JgVX3yk_"
      },
      "source": [
        "**Чисто для подстраховки проверим, что число столбцов в разреженных матрицах `X_sparse_10users` и `X_sparse_150users` равно ранее посчитанным числам уникальных сайтов для 10 и 150 пользователей соответственно.**"
      ]
    },
    {
      "cell_type": "code",
      "metadata": {
        "collapsed": true,
        "id": "-fBhL35X3yk_"
      },
      "source": [
        "assert X_sparse_10users.shape[1] == len(site_freq_10users)"
      ],
      "execution_count": 123,
      "outputs": []
    },
    {
      "cell_type": "code",
      "metadata": {
        "collapsed": true,
        "id": "0xIFHz4x3ylA"
      },
      "source": [
        "assert X_sparse_150users.shape[1] == len(site_freq_150users)"
      ],
      "execution_count": 124,
      "outputs": []
    },
    {
      "cell_type": "markdown",
      "metadata": {
        "id": "kxp83q393ylA"
      },
      "source": [
        "## Пути улучшения\n",
        "-  можно обработать исходные данные по 3000 пользователей; обучать на такой выборке модели лучше при наличии доступа к хорошим мощностям (можно арендовать инстанс Amazon EC2, как именно, описано [тут](https://habrahabr.ru/post/280562/)). Хотя далее в курсе мы познакомимся с алгоритмами, способными обучаться на больших выборках при малых вычислительных потребностях;\n",
        "- помимо явного создания разреженного формата можно еще составить выборки с помощью `CountVectorizer`, `TfidfVectorizer` и т.п. Поскольку данные по сути могут быть описаны как последовательности, то можно вычислять n-граммы сайтов. Работает все это или нет, мы будем проверять в [соревновании](https://inclass.kaggle.com/c/catch-me-if-you-can-intruder-detection-through-webpage-session-tracking2) Kaggle Inclass (желающие могут начать уже сейчас).\n",
        "\n",
        "На следующей неделе мы еще немного поготовим данные и потестируем первые гипотезы, связанные с нашими наблюдениями. "
      ]
    }
  ]
}